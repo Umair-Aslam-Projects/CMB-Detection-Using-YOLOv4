{
  "nbformat": 4,
  "nbformat_minor": 0,
  "metadata": {
    "kernelspec": {
      "display_name": "Python 3",
      "language": "python",
      "name": "python3"
    },
    "language_info": {
      "codemirror_mode": {
        "name": "ipython",
        "version": 3
      },
      "file_extension": ".py",
      "mimetype": "text/x-python",
      "name": "python",
      "nbconvert_exporter": "python",
      "pygments_lexer": "ipython3",
      "version": "3.8.5"
    },
    "colab": {
      "provenance": []
    }
  },
  "cells": [
    {
      "cell_type": "code",
      "metadata": {
        "id": "UHHp5ueMFXUD"
      },
      "source": [
        "import pandas as pd\n",
        "import glob\n",
        "import os\n",
        "import numpy as np"
      ],
      "execution_count": null,
      "outputs": []
    },
    {
      "cell_type": "markdown",
      "metadata": {
        "id": "oiNKT1j2FXUI"
      },
      "source": [
        "# Preprocessing"
      ]
    },
    {
      "cell_type": "markdown",
      "metadata": {
        "id": "hZ3qi94hFXUJ"
      },
      "source": [
        "- Delete Magnıtude and Phase subfolders\n",
        "- FOR /d /r . %d IN (Magnitude) DO @IF EXIST \"%d\" rd /s /q \"%d\"\n",
        "- Use Medical Image Converter to convert files"
      ]
    },
    {
      "cell_type": "code",
      "metadata": {
        "id": "a6g8FLkpsydn"
      },
      "source": [],
      "execution_count": null,
      "outputs": []
    },
    {
      "cell_type": "code",
      "metadata": {
        "id": "BWMphJlcFXUK"
      },
      "source": [
        "def readLabelFiles(path):\n",
        "    files = os.listdir(path)\n",
        "    data={}\n",
        "    for i in files:\n",
        "        df=pd.read_excel(path+i,header=None)\n",
        "        name=i.split('.')\n",
        "        data[name[0]]=df\n",
        "    return data"
      ],
      "execution_count": null,
      "outputs": []
    },
    {
      "cell_type": "code",
      "metadata": {
        "id": "2SP1EOZzFXUK"
      },
      "source": [
        "data=readLabelFiles(\"C:/Users/PROTED/Downloads/CMBs Dataset/CMBs Dataset/HR Labels/\")"
      ],
      "execution_count": null,
      "outputs": []
    },
    {
      "cell_type": "code",
      "metadata": {
        "id": "sxaxgH-2FXUL"
      },
      "source": [
        "def getSliceNumbers(data):\n",
        "    sliceN={}\n",
        "    for k in data.keys():\n",
        "        sliceN[k]=data[k].values[:,0]\n",
        "    return sliceN\n"
      ],
      "execution_count": null,
      "outputs": []
    },
    {
      "cell_type": "code",
      "metadata": {
        "id": "1xX55nDAFXUL"
      },
      "source": [
        "sliceNumbers=getSliceNumbers(data)"
      ],
      "execution_count": null,
      "outputs": []
    },
    {
      "cell_type": "code",
      "metadata": {
        "id": "81bYliY_FXUL"
      },
      "source": [
        "#!pip install --upgrade Pillow"
      ],
      "execution_count": null,
      "outputs": []
    },
    {
      "cell_type": "code",
      "metadata": {
        "id": "moCl-YrjFXUM"
      },
      "source": [
        "from PIL import Image\n",
        "#img=Image.open(\"C:/Users/PROTED/Downloads/ConvertedNifti/P_001-0001.jpg\")\n",
        "#img.show()"
      ],
      "execution_count": null,
      "outputs": []
    },
    {
      "cell_type": "code",
      "metadata": {
        "id": "uJz6oVa0FXUM"
      },
      "source": [
        "def importImages(path):\n",
        "    allImages=[]\n",
        "    files = os.listdir(path)\n",
        "    for i in files:\n",
        "        allImages.append(Image.open(path+i))\n",
        "    df=pd.DataFrame({'Name':files,'Image':allImages})\n",
        "    return df"
      ],
      "execution_count": null,
      "outputs": []
    },
    {
      "cell_type": "code",
      "metadata": {
        "id": "H0jGP2CJFXUM"
      },
      "source": [
        "Images=importImages(\"C:/Users/PROTED/Downloads/ConvertedNifti/\")"
      ],
      "execution_count": null,
      "outputs": []
    },
    {
      "cell_type": "code",
      "metadata": {
        "id": "D4ZYA5uqFXUN",
        "outputId": "688e4e15-335b-4022-9e95-821c226e0053"
      },
      "source": [
        "Images.head()"
      ],
      "execution_count": null,
      "outputs": [
        {
          "output_type": "execute_result",
          "data": {
            "text/html": [
              "<div>\n",
              "<style scoped>\n",
              "    .dataframe tbody tr th:only-of-type {\n",
              "        vertical-align: middle;\n",
              "    }\n",
              "\n",
              "    .dataframe tbody tr th {\n",
              "        vertical-align: top;\n",
              "    }\n",
              "\n",
              "    .dataframe thead th {\n",
              "        text-align: right;\n",
              "    }\n",
              "</style>\n",
              "<table border=\"1\" class=\"dataframe\">\n",
              "  <thead>\n",
              "    <tr style=\"text-align: right;\">\n",
              "      <th></th>\n",
              "      <th>Name</th>\n",
              "      <th>Image</th>\n",
              "    </tr>\n",
              "  </thead>\n",
              "  <tbody>\n",
              "    <tr>\n",
              "      <th>0</th>\n",
              "      <td>P_001-0001.jpg</td>\n",
              "      <td>&lt;PIL.JpegImagePlugin.JpegImageFile image mode=...</td>\n",
              "    </tr>\n",
              "    <tr>\n",
              "      <th>1</th>\n",
              "      <td>P_001-0002.jpg</td>\n",
              "      <td>&lt;PIL.JpegImagePlugin.JpegImageFile image mode=...</td>\n",
              "    </tr>\n",
              "    <tr>\n",
              "      <th>2</th>\n",
              "      <td>P_001-0003.jpg</td>\n",
              "      <td>&lt;PIL.JpegImagePlugin.JpegImageFile image mode=...</td>\n",
              "    </tr>\n",
              "    <tr>\n",
              "      <th>3</th>\n",
              "      <td>P_001-0004.jpg</td>\n",
              "      <td>&lt;PIL.JpegImagePlugin.JpegImageFile image mode=...</td>\n",
              "    </tr>\n",
              "    <tr>\n",
              "      <th>4</th>\n",
              "      <td>P_001-0005.jpg</td>\n",
              "      <td>&lt;PIL.JpegImagePlugin.JpegImageFile image mode=...</td>\n",
              "    </tr>\n",
              "  </tbody>\n",
              "</table>\n",
              "</div>"
            ],
            "text/plain": [
              "             Name                                              Image\n",
              "0  P_001-0001.jpg  <PIL.JpegImagePlugin.JpegImageFile image mode=...\n",
              "1  P_001-0002.jpg  <PIL.JpegImagePlugin.JpegImageFile image mode=...\n",
              "2  P_001-0003.jpg  <PIL.JpegImagePlugin.JpegImageFile image mode=...\n",
              "3  P_001-0004.jpg  <PIL.JpegImagePlugin.JpegImageFile image mode=...\n",
              "4  P_001-0005.jpg  <PIL.JpegImagePlugin.JpegImageFile image mode=..."
            ]
          },
          "metadata": {
            "tags": []
          },
          "execution_count": 12
        }
      ]
    },
    {
      "cell_type": "code",
      "metadata": {
        "id": "JYzg-qjKFXUO"
      },
      "source": [
        "#Add slice number to Images\n",
        "sliceN=[]\n",
        "for i in Images.Name:\n",
        "    sliceN.append(i.split(\"_\")[1].replace(\".jpg\",\"\"))\n",
        "Images[\"Slice\"]=sliceN"
      ],
      "execution_count": null,
      "outputs": []
    },
    {
      "cell_type": "code",
      "metadata": {
        "id": "Qm-6dmJ1FXUO",
        "outputId": "7e2c15a3-1aed-40ce-a8b3-d1f1dc97fb65"
      },
      "source": [
        "Images.head()"
      ],
      "execution_count": null,
      "outputs": [
        {
          "output_type": "execute_result",
          "data": {
            "text/html": [
              "<div>\n",
              "<style scoped>\n",
              "    .dataframe tbody tr th:only-of-type {\n",
              "        vertical-align: middle;\n",
              "    }\n",
              "\n",
              "    .dataframe tbody tr th {\n",
              "        vertical-align: top;\n",
              "    }\n",
              "\n",
              "    .dataframe thead th {\n",
              "        text-align: right;\n",
              "    }\n",
              "</style>\n",
              "<table border=\"1\" class=\"dataframe\">\n",
              "  <thead>\n",
              "    <tr style=\"text-align: right;\">\n",
              "      <th></th>\n",
              "      <th>Name</th>\n",
              "      <th>Image</th>\n",
              "      <th>Slice</th>\n",
              "    </tr>\n",
              "  </thead>\n",
              "  <tbody>\n",
              "    <tr>\n",
              "      <th>0</th>\n",
              "      <td>P_001-0001.jpg</td>\n",
              "      <td>&lt;PIL.JpegImagePlugin.JpegImageFile image mode=...</td>\n",
              "      <td>001-0001</td>\n",
              "    </tr>\n",
              "    <tr>\n",
              "      <th>1</th>\n",
              "      <td>P_001-0002.jpg</td>\n",
              "      <td>&lt;PIL.JpegImagePlugin.JpegImageFile image mode=...</td>\n",
              "      <td>001-0002</td>\n",
              "    </tr>\n",
              "    <tr>\n",
              "      <th>2</th>\n",
              "      <td>P_001-0003.jpg</td>\n",
              "      <td>&lt;PIL.JpegImagePlugin.JpegImageFile image mode=...</td>\n",
              "      <td>001-0003</td>\n",
              "    </tr>\n",
              "    <tr>\n",
              "      <th>3</th>\n",
              "      <td>P_001-0004.jpg</td>\n",
              "      <td>&lt;PIL.JpegImagePlugin.JpegImageFile image mode=...</td>\n",
              "      <td>001-0004</td>\n",
              "    </tr>\n",
              "    <tr>\n",
              "      <th>4</th>\n",
              "      <td>P_001-0005.jpg</td>\n",
              "      <td>&lt;PIL.JpegImagePlugin.JpegImageFile image mode=...</td>\n",
              "      <td>001-0005</td>\n",
              "    </tr>\n",
              "  </tbody>\n",
              "</table>\n",
              "</div>"
            ],
            "text/plain": [
              "             Name                                              Image     Slice\n",
              "0  P_001-0001.jpg  <PIL.JpegImagePlugin.JpegImageFile image mode=...  001-0001\n",
              "1  P_001-0002.jpg  <PIL.JpegImagePlugin.JpegImageFile image mode=...  001-0002\n",
              "2  P_001-0003.jpg  <PIL.JpegImagePlugin.JpegImageFile image mode=...  001-0003\n",
              "3  P_001-0004.jpg  <PIL.JpegImagePlugin.JpegImageFile image mode=...  001-0004\n",
              "4  P_001-0005.jpg  <PIL.JpegImagePlugin.JpegImageFile image mode=...  001-0005"
            ]
          },
          "metadata": {
            "tags": []
          },
          "execution_count": 14
        }
      ]
    },
    {
      "cell_type": "code",
      "metadata": {
        "id": "dPa7KllKFXUP"
      },
      "source": [
        "#Slices with cmbs\n",
        "cmbSlices=[]\n",
        "for k in sliceNumbers.keys():\n",
        "    a=k.split(\"_\")[1]\n",
        "    for i in sliceNumbers[k]:\n",
        "        if i>=10:\n",
        "            cmbSlices.append(a+\"-00\"+str(i))\n",
        "        else:\n",
        "            cmbSlices.append(a+\"-000\"+str(i))\n",
        "\n",
        ""
      ],
      "execution_count": null,
      "outputs": []
    },
    {
      "cell_type": "code",
      "metadata": {
        "collapsed": true,
        "id": "A9P1Gf6mFXUP",
        "outputId": "2dc1af8f-2205-413f-c07e-31de117aebaa"
      },
      "source": [
        "cmbImages=[]\n",
        "for i in cmbSlices:\n",
        "    cmbImages.append(Images[Images['Slice']==i]['Image'].values)\n",
        "cmbImages"
      ],
      "execution_count": null,
      "outputs": [
        {
          "output_type": "execute_result",
          "data": {
            "text/plain": [
              "[array([<PIL.JpegImagePlugin.JpegImageFile image mode=L size=448x512 at 0x21D229B4910>],\n",
              "       dtype=object),\n",
              " array([<PIL.JpegImagePlugin.JpegImageFile image mode=L size=448x512 at 0x21D229B4970>],\n",
              "       dtype=object),\n",
              " array([<PIL.JpegImagePlugin.JpegImageFile image mode=L size=448x512 at 0x21D229FA5B0>],\n",
              "       dtype=object),\n",
              " array([<PIL.JpegImagePlugin.JpegImageFile image mode=L size=448x512 at 0x21D229FA610>],\n",
              "       dtype=object),\n",
              " array([<PIL.JpegImagePlugin.JpegImageFile image mode=L size=448x512 at 0x21D22A1D9D0>],\n",
              "       dtype=object),\n",
              " array([<PIL.JpegImagePlugin.JpegImageFile image mode=L size=448x512 at 0x21D22A1DA30>],\n",
              "       dtype=object),\n",
              " array([<PIL.JpegImagePlugin.JpegImageFile image mode=L size=448x512 at 0x21D22A64A90>],\n",
              "       dtype=object),\n",
              " array([<PIL.JpegImagePlugin.JpegImageFile image mode=L size=448x512 at 0x21D22A64AF0>],\n",
              "       dtype=object),\n",
              " array([<PIL.JpegImagePlugin.JpegImageFile image mode=L size=448x512 at 0x21D22A64B50>],\n",
              "       dtype=object),\n",
              " array([<PIL.JpegImagePlugin.JpegImageFile image mode=L size=448x512 at 0x21D22AA9370>],\n",
              "       dtype=object),\n",
              " array([<PIL.JpegImagePlugin.JpegImageFile image mode=L size=448x512 at 0x21D22AA9610>],\n",
              "       dtype=object),\n",
              " array([<PIL.JpegImagePlugin.JpegImageFile image mode=L size=448x512 at 0x21D22ACE190>],\n",
              "       dtype=object),\n",
              " array([<PIL.JpegImagePlugin.JpegImageFile image mode=L size=448x512 at 0x21D22ACE1F0>],\n",
              "       dtype=object),\n",
              " array([<PIL.JpegImagePlugin.JpegImageFile image mode=L size=448x512 at 0x21D22B13490>],\n",
              "       dtype=object),\n",
              " array([<PIL.JpegImagePlugin.JpegImageFile image mode=L size=448x512 at 0x21D22B13C10>],\n",
              "       dtype=object),\n",
              " array([<PIL.JpegImagePlugin.JpegImageFile image mode=L size=448x512 at 0x21D22B5BC70>],\n",
              "       dtype=object),\n",
              " array([<PIL.JpegImagePlugin.JpegImageFile image mode=L size=448x512 at 0x21D22B5BCD0>],\n",
              "       dtype=object),\n",
              " array([<PIL.JpegImagePlugin.JpegImageFile image mode=L size=448x512 at 0x21D22B5BD30>],\n",
              "       dtype=object),\n",
              " array([<PIL.JpegImagePlugin.JpegImageFile image mode=L size=448x512 at 0x21D22B7CEB0>],\n",
              "       dtype=object),\n",
              " array([<PIL.JpegImagePlugin.JpegImageFile image mode=L size=448x512 at 0x21D22B7CF10>],\n",
              "       dtype=object),\n",
              " array([<PIL.JpegImagePlugin.JpegImageFile image mode=L size=448x512 at 0x21D22BC4A30>],\n",
              "       dtype=object),\n",
              " array([<PIL.JpegImagePlugin.JpegImageFile image mode=L size=448x512 at 0x21D22BC4A90>],\n",
              "       dtype=object),\n",
              " array([<PIL.JpegImagePlugin.JpegImageFile image mode=L size=448x512 at 0x21D22BC4AF0>],\n",
              "       dtype=object),\n",
              " array([<PIL.JpegImagePlugin.JpegImageFile image mode=L size=448x512 at 0x21D22C0A5B0>],\n",
              "       dtype=object),\n",
              " array([<PIL.JpegImagePlugin.JpegImageFile image mode=L size=448x512 at 0x21D22C0A610>],\n",
              "       dtype=object),\n",
              " array([<PIL.JpegImagePlugin.JpegImageFile image mode=L size=448x512 at 0x21D22C2EC70>],\n",
              "       dtype=object),\n",
              " array([<PIL.JpegImagePlugin.JpegImageFile image mode=L size=448x512 at 0x21D22C515B0>],\n",
              "       dtype=object),\n",
              " array([<PIL.JpegImagePlugin.JpegImageFile image mode=L size=448x512 at 0x21D22C746D0>],\n",
              "       dtype=object),\n",
              " array([<PIL.JpegImagePlugin.JpegImageFile image mode=L size=448x512 at 0x21D22C74730>],\n",
              "       dtype=object),\n",
              " array([<PIL.JpegImagePlugin.JpegImageFile image mode=L size=448x512 at 0x21D22C74790>],\n",
              "       dtype=object),\n",
              " array([<PIL.JpegImagePlugin.JpegImageFile image mode=L size=448x512 at 0x21D22C74790>],\n",
              "       dtype=object),\n",
              " array([<PIL.JpegImagePlugin.JpegImageFile image mode=L size=448x512 at 0x21D22C747F0>],\n",
              "       dtype=object),\n",
              " array([<PIL.JpegImagePlugin.JpegImageFile image mode=L size=448x512 at 0x21D22C74AF0>],\n",
              "       dtype=object),\n",
              " array([<PIL.JpegImagePlugin.JpegImageFile image mode=L size=448x512 at 0x21D22C74B50>],\n",
              "       dtype=object),\n",
              " array([<PIL.JpegImagePlugin.JpegImageFile image mode=L size=448x512 at 0x21D22CBA850>],\n",
              "       dtype=object),\n",
              " array([<PIL.JpegImagePlugin.JpegImageFile image mode=L size=448x512 at 0x21D22CBA970>],\n",
              "       dtype=object),\n",
              " array([<PIL.JpegImagePlugin.JpegImageFile image mode=L size=448x512 at 0x21D22D013D0>],\n",
              "       dtype=object),\n",
              " array([<PIL.JpegImagePlugin.JpegImageFile image mode=L size=448x512 at 0x21D22D01430>],\n",
              "       dtype=object),\n",
              " array([<PIL.JpegImagePlugin.JpegImageFile image mode=L size=448x512 at 0x21D22D24F70>],\n",
              "       dtype=object),\n",
              " array([<PIL.JpegImagePlugin.JpegImageFile image mode=L size=448x512 at 0x21D22D24FD0>],\n",
              "       dtype=object),\n",
              " array([<PIL.JpegImagePlugin.JpegImageFile image mode=L size=448x512 at 0x21D22D8E0D0>],\n",
              "       dtype=object),\n",
              " array([<PIL.JpegImagePlugin.JpegImageFile image mode=L size=448x512 at 0x21D22DB1250>],\n",
              "       dtype=object),\n",
              " array([<PIL.JpegImagePlugin.JpegImageFile image mode=L size=448x512 at 0x21D22DD5FD0>],\n",
              "       dtype=object),\n",
              " array([<PIL.JpegImagePlugin.JpegImageFile image mode=L size=448x512 at 0x21D22DF7070>],\n",
              "       dtype=object),\n",
              " array([<PIL.JpegImagePlugin.JpegImageFile image mode=L size=448x512 at 0x21D23DEB970>],\n",
              "       dtype=object),\n",
              " array([<PIL.JpegImagePlugin.JpegImageFile image mode=L size=448x512 at 0x21D23DEBD90>],\n",
              "       dtype=object),\n",
              " array([<PIL.JpegImagePlugin.JpegImageFile image mode=L size=448x512 at 0x21D23DEBFD0>],\n",
              "       dtype=object),\n",
              " array([<PIL.JpegImagePlugin.JpegImageFile image mode=L size=448x512 at 0x21D23E30850>],\n",
              "       dtype=object),\n",
              " array([<PIL.JpegImagePlugin.JpegImageFile image mode=L size=448x512 at 0x21D23E79310>],\n",
              "       dtype=object),\n",
              " array([<PIL.JpegImagePlugin.JpegImageFile image mode=L size=448x512 at 0x21D23E9AF10>],\n",
              "       dtype=object),\n",
              " array([<PIL.JpegImagePlugin.JpegImageFile image mode=L size=448x512 at 0x21D23E9AF10>],\n",
              "       dtype=object),\n",
              " array([<PIL.JpegImagePlugin.JpegImageFile image mode=L size=448x512 at 0x21D23EBE490>],\n",
              "       dtype=object),\n",
              " array([<PIL.JpegImagePlugin.JpegImageFile image mode=L size=448x512 at 0x21D23EBE490>],\n",
              "       dtype=object),\n",
              " array([<PIL.JpegImagePlugin.JpegImageFile image mode=L size=448x512 at 0x21D23EE1B50>],\n",
              "       dtype=object),\n",
              " array([<PIL.JpegImagePlugin.JpegImageFile image mode=L size=448x512 at 0x21D23EE1BB0>],\n",
              "       dtype=object),\n",
              " array([<PIL.JpegImagePlugin.JpegImageFile image mode=L size=448x512 at 0x21D23F283D0>],\n",
              "       dtype=object),\n",
              " array([<PIL.JpegImagePlugin.JpegImageFile image mode=L size=448x512 at 0x21D23F28490>],\n",
              "       dtype=object),\n",
              " array([<PIL.JpegImagePlugin.JpegImageFile image mode=L size=448x512 at 0x21D23F4CF10>],\n",
              "       dtype=object),\n",
              " array([<PIL.JpegImagePlugin.JpegImageFile image mode=L size=448x512 at 0x21D23F6D190>],\n",
              "       dtype=object),\n",
              " array([<PIL.JpegImagePlugin.JpegImageFile image mode=L size=448x512 at 0x21D23F6D1F0>],\n",
              "       dtype=object),\n",
              " array([<PIL.JpegImagePlugin.JpegImageFile image mode=L size=448x512 at 0x21D23F92850>],\n",
              "       dtype=object),\n",
              " array([<PIL.JpegImagePlugin.JpegImageFile image mode=L size=448x512 at 0x21D23F92C70>],\n",
              "       dtype=object),\n",
              " array([<PIL.JpegImagePlugin.JpegImageFile image mode=L size=448x512 at 0x21D23FD74F0>],\n",
              "       dtype=object),\n",
              " array([<PIL.JpegImagePlugin.JpegImageFile image mode=L size=448x512 at 0x21D23FD7550>],\n",
              "       dtype=object),\n",
              " array([<PIL.JpegImagePlugin.JpegImageFile image mode=L size=448x512 at 0x21D23FD7850>],\n",
              "       dtype=object),\n",
              " array([<PIL.JpegImagePlugin.JpegImageFile image mode=L size=448x512 at 0x21D23FD78B0>],\n",
              "       dtype=object),\n",
              " array([<PIL.JpegImagePlugin.JpegImageFile image mode=L size=448x512 at 0x21D2401F6D0>],\n",
              "       dtype=object),\n",
              " array([<PIL.JpegImagePlugin.JpegImageFile image mode=L size=448x512 at 0x21D2401F730>],\n",
              "       dtype=object),\n",
              " array([<PIL.JpegImagePlugin.JpegImageFile image mode=L size=448x512 at 0x21D2401F790>],\n",
              "       dtype=object),\n",
              " array([<PIL.JpegImagePlugin.JpegImageFile image mode=L size=448x512 at 0x21D24065070>],\n",
              "       dtype=object),\n",
              " array([<PIL.JpegImagePlugin.JpegImageFile image mode=L size=448x512 at 0x21D240650D0>],\n",
              "       dtype=object),\n",
              " array([<PIL.JpegImagePlugin.JpegImageFile image mode=L size=448x512 at 0x21D24088790>],\n",
              "       dtype=object),\n",
              " array([<PIL.JpegImagePlugin.JpegImageFile image mode=L size=448x512 at 0x21D240CEB50>],\n",
              "       dtype=object),\n",
              " array([<PIL.JpegImagePlugin.JpegImageFile image mode=L size=448x512 at 0x21D240CEBB0>],\n",
              "       dtype=object),\n",
              " array([<PIL.JpegImagePlugin.JpegImageFile image mode=L size=448x512 at 0x21D240F3FD0>],\n",
              "       dtype=object),\n",
              " array([<PIL.JpegImagePlugin.JpegImageFile image mode=L size=448x512 at 0x21D24115190>],\n",
              "       dtype=object),\n",
              " array([<PIL.JpegImagePlugin.JpegImageFile image mode=L size=448x512 at 0x21D241151F0>],\n",
              "       dtype=object),\n",
              " array([<PIL.JpegImagePlugin.JpegImageFile image mode=L size=448x512 at 0x21D24115250>],\n",
              "       dtype=object),\n",
              " array([<PIL.JpegImagePlugin.JpegImageFile image mode=L size=448x512 at 0x21D24115250>],\n",
              "       dtype=object),\n",
              " array([<PIL.JpegImagePlugin.JpegImageFile image mode=L size=448x512 at 0x21D24138A90>],\n",
              "       dtype=object),\n",
              " array([<PIL.JpegImagePlugin.JpegImageFile image mode=L size=448x512 at 0x21D24138B50>],\n",
              "       dtype=object),\n",
              " array([<PIL.JpegImagePlugin.JpegImageFile image mode=L size=448x512 at 0x21D24138CD0>],\n",
              "       dtype=object),\n",
              " array([<PIL.JpegImagePlugin.JpegImageFile image mode=L size=448x512 at 0x21D2415A1F0>],\n",
              "       dtype=object),\n",
              " array([<PIL.JpegImagePlugin.JpegImageFile image mode=L size=448x512 at 0x21D2417F0D0>],\n",
              "       dtype=object),\n",
              " array([<PIL.JpegImagePlugin.JpegImageFile image mode=L size=448x512 at 0x21D2417F250>],\n",
              "       dtype=object),\n",
              " array([<PIL.JpegImagePlugin.JpegImageFile image mode=L size=448x512 at 0x21D2417F370>],\n",
              "       dtype=object),\n",
              " array([<PIL.JpegImagePlugin.JpegImageFile image mode=L size=448x512 at 0x21D2417F4F0>],\n",
              "       dtype=object),\n",
              " array([<PIL.JpegImagePlugin.JpegImageFile image mode=L size=448x512 at 0x21D2417F550>],\n",
              "       dtype=object),\n",
              " array([<PIL.JpegImagePlugin.JpegImageFile image mode=L size=448x512 at 0x21D2417F850>],\n",
              "       dtype=object),\n",
              " array([<PIL.JpegImagePlugin.JpegImageFile image mode=L size=448x512 at 0x21D2417F8B0>],\n",
              "       dtype=object),\n",
              " array([<PIL.JpegImagePlugin.JpegImageFile image mode=L size=448x512 at 0x21D2417FC10>],\n",
              "       dtype=object),\n",
              " array([<PIL.JpegImagePlugin.JpegImageFile image mode=L size=448x512 at 0x21D241C5250>],\n",
              "       dtype=object),\n",
              " array([<PIL.JpegImagePlugin.JpegImageFile image mode=L size=448x512 at 0x21D2420C1F0>],\n",
              "       dtype=object),\n",
              " array([<PIL.JpegImagePlugin.JpegImageFile image mode=L size=448x512 at 0x21D2422E6D0>],\n",
              "       dtype=object),\n",
              " array([<PIL.JpegImagePlugin.JpegImageFile image mode=L size=448x512 at 0x21D2422E970>],\n",
              "       dtype=object),\n",
              " array([<PIL.JpegImagePlugin.JpegImageFile image mode=L size=448x512 at 0x21D2422EAF0>],\n",
              "       dtype=object),\n",
              " array([<PIL.JpegImagePlugin.JpegImageFile image mode=L size=448x512 at 0x21D2422EB50>],\n",
              "       dtype=object),\n",
              " array([<PIL.JpegImagePlugin.JpegImageFile image mode=L size=448x512 at 0x21D2422EB50>],\n",
              "       dtype=object),\n",
              " array([<PIL.JpegImagePlugin.JpegImageFile image mode=L size=448x512 at 0x21D2422EBB0>],\n",
              "       dtype=object),\n",
              " array([<PIL.JpegImagePlugin.JpegImageFile image mode=L size=448x512 at 0x21D242520D0>],\n",
              "       dtype=object),\n",
              " array([<PIL.JpegImagePlugin.JpegImageFile image mode=L size=448x512 at 0x21D242522B0>],\n",
              "       dtype=object),\n",
              " array([<PIL.JpegImagePlugin.JpegImageFile image mode=L size=448x512 at 0x21D242754F0>],\n",
              "       dtype=object),\n",
              " array([<PIL.JpegImagePlugin.JpegImageFile image mode=L size=448x512 at 0x21D242BC850>],\n",
              "       dtype=object),\n",
              " array([<PIL.JpegImagePlugin.JpegImageFile image mode=L size=448x512 at 0x21D24302790>],\n",
              "       dtype=object),\n",
              " array([<PIL.JpegImagePlugin.JpegImageFile image mode=L size=448x512 at 0x21D24324970>],\n",
              "       dtype=object),\n",
              " array([<PIL.JpegImagePlugin.JpegImageFile image mode=L size=448x512 at 0x21D24324E50>],\n",
              "       dtype=object),\n",
              " array([<PIL.JpegImagePlugin.JpegImageFile image mode=L size=448x512 at 0x21D2436D2B0>],\n",
              "       dtype=object),\n",
              " array([<PIL.JpegImagePlugin.JpegImageFile image mode=L size=448x512 at 0x21D2436D310>],\n",
              "       dtype=object),\n",
              " array([<PIL.JpegImagePlugin.JpegImageFile image mode=L size=448x512 at 0x21D2436D490>],\n",
              "       dtype=object),\n",
              " array([<PIL.JpegImagePlugin.JpegImageFile image mode=L size=448x512 at 0x21D2436D490>],\n",
              "       dtype=object),\n",
              " array([<PIL.JpegImagePlugin.JpegImageFile image mode=L size=448x512 at 0x21D2436D490>],\n",
              "       dtype=object),\n",
              " array([<PIL.JpegImagePlugin.JpegImageFile image mode=L size=448x512 at 0x21D2436D490>],\n",
              "       dtype=object),\n",
              " array([<PIL.JpegImagePlugin.JpegImageFile image mode=L size=448x512 at 0x21D2436D610>],\n",
              "       dtype=object),\n",
              " array([<PIL.JpegImagePlugin.JpegImageFile image mode=L size=448x512 at 0x21D2436D7F0>],\n",
              "       dtype=object),\n",
              " array([<PIL.JpegImagePlugin.JpegImageFile image mode=L size=448x512 at 0x21D2436D8B0>],\n",
              "       dtype=object),\n",
              " array([<PIL.JpegImagePlugin.JpegImageFile image mode=L size=448x512 at 0x21D2436D910>],\n",
              "       dtype=object),\n",
              " array([<PIL.JpegImagePlugin.JpegImageFile image mode=L size=448x512 at 0x21D2436DC10>],\n",
              "       dtype=object),\n",
              " array([<PIL.JpegImagePlugin.JpegImageFile image mode=L size=448x512 at 0x21D2436DC10>],\n",
              "       dtype=object),\n",
              " array([<PIL.JpegImagePlugin.JpegImageFile image mode=L size=448x512 at 0x21D2436DD30>],\n",
              "       dtype=object),\n",
              " array([<PIL.JpegImagePlugin.JpegImageFile image mode=L size=448x512 at 0x21D2436DE50>],\n",
              "       dtype=object),\n",
              " array([<PIL.JpegImagePlugin.JpegImageFile image mode=L size=448x512 at 0x21D243B2190>],\n",
              "       dtype=object),\n",
              " array([<PIL.JpegImagePlugin.JpegImageFile image mode=L size=448x512 at 0x21D243B28B0>],\n",
              "       dtype=object),\n",
              " array([<PIL.JpegImagePlugin.JpegImageFile image mode=L size=448x512 at 0x21D243B2910>],\n",
              "       dtype=object),\n",
              " array([<PIL.JpegImagePlugin.JpegImageFile image mode=L size=448x512 at 0x21D243F8370>],\n",
              "       dtype=object),\n",
              " array([<PIL.JpegImagePlugin.JpegImageFile image mode=L size=448x512 at 0x21D253ECB50>],\n",
              "       dtype=object),\n",
              " array([<PIL.JpegImagePlugin.JpegImageFile image mode=L size=448x512 at 0x21D25431C70>],\n",
              "       dtype=object),\n",
              " array([<PIL.JpegImagePlugin.JpegImageFile image mode=L size=448x512 at 0x21D254795B0>],\n",
              "       dtype=object),\n",
              " array([<PIL.JpegImagePlugin.JpegImageFile image mode=L size=448x512 at 0x21D25479610>],\n",
              "       dtype=object),\n",
              " array([<PIL.JpegImagePlugin.JpegImageFile image mode=L size=448x512 at 0x21D2549B4F0>],\n",
              "       dtype=object),\n",
              " array([<PIL.JpegImagePlugin.JpegImageFile image mode=L size=448x512 at 0x21D2549BB50>],\n",
              "       dtype=object),\n",
              " array([<PIL.JpegImagePlugin.JpegImageFile image mode=L size=448x512 at 0x21D2549BB50>],\n",
              "       dtype=object),\n",
              " array([<PIL.JpegImagePlugin.JpegImageFile image mode=L size=448x512 at 0x21D254E4B50>],\n",
              "       dtype=object),\n",
              " array([<PIL.JpegImagePlugin.JpegImageFile image mode=L size=448x512 at 0x21D255294F0>],\n",
              "       dtype=object),\n",
              " array([<PIL.JpegImagePlugin.JpegImageFile image mode=L size=448x512 at 0x21D255294F0>],\n",
              "       dtype=object),\n",
              " array([<PIL.JpegImagePlugin.JpegImageFile image mode=L size=448x512 at 0x21D2554C730>],\n",
              "       dtype=object),\n",
              " array([<PIL.JpegImagePlugin.JpegImageFile image mode=L size=448x512 at 0x21D25593610>],\n",
              "       dtype=object),\n",
              " array([<PIL.JpegImagePlugin.JpegImageFile image mode=L size=448x512 at 0x21D25593CD0>],\n",
              "       dtype=object),\n",
              " array([<PIL.JpegImagePlugin.JpegImageFile image mode=L size=448x512 at 0x21D255D8310>],\n",
              "       dtype=object),\n",
              " array([<PIL.JpegImagePlugin.JpegImageFile image mode=L size=448x512 at 0x21D255D8610>],\n",
              "       dtype=object),\n",
              " array([<PIL.JpegImagePlugin.JpegImageFile image mode=L size=448x512 at 0x21D255FCCD0>],\n",
              "       dtype=object),\n",
              " array([<PIL.JpegImagePlugin.JpegImageFile image mode=L size=448x512 at 0x21D255FCF70>],\n",
              "       dtype=object),\n",
              " array([<PIL.JpegImagePlugin.JpegImageFile image mode=L size=448x512 at 0x21D256664F0>],\n",
              "       dtype=object),\n",
              " array([<PIL.JpegImagePlugin.JpegImageFile image mode=L size=448x512 at 0x21D25689CD0>],\n",
              "       dtype=object),\n",
              " array([<PIL.JpegImagePlugin.JpegImageFile image mode=L size=448x512 at 0x21D25689CD0>],\n",
              "       dtype=object),\n",
              " array([<PIL.JpegImagePlugin.JpegImageFile image mode=L size=448x512 at 0x21D256D0610>],\n",
              "       dtype=object),\n",
              " array([<PIL.JpegImagePlugin.JpegImageFile image mode=L size=448x512 at 0x21D256D07F0>],\n",
              "       dtype=object),\n",
              " array([<PIL.JpegImagePlugin.JpegImageFile image mode=L size=448x512 at 0x21D256D0A90>],\n",
              "       dtype=object),\n",
              " array([<PIL.JpegImagePlugin.JpegImageFile image mode=L size=448x512 at 0x21D256D0B50>],\n",
              "       dtype=object),\n",
              " array([<PIL.JpegImagePlugin.JpegImageFile image mode=L size=448x512 at 0x21D256F5D90>],\n",
              "       dtype=object),\n",
              " array([<PIL.JpegImagePlugin.JpegImageFile image mode=L size=448x512 at 0x21D2573CF10>],\n",
              "       dtype=object),\n",
              " array([<PIL.JpegImagePlugin.JpegImageFile image mode=L size=448x512 at 0x21D25782DF0>],\n",
              "       dtype=object),\n",
              " array([<PIL.JpegImagePlugin.JpegImageFile image mode=L size=448x512 at 0x21D257A5310>],\n",
              "       dtype=object),\n",
              " array([<PIL.JpegImagePlugin.JpegImageFile image mode=L size=448x512 at 0x21D257CA730>],\n",
              "       dtype=object),\n",
              " array([<PIL.JpegImagePlugin.JpegImageFile image mode=L size=448x512 at 0x21D257CAFD0>],\n",
              "       dtype=object),\n",
              " array([<PIL.JpegImagePlugin.JpegImageFile image mode=L size=448x512 at 0x21D2580F250>],\n",
              "       dtype=object),\n",
              " array([<PIL.JpegImagePlugin.JpegImageFile image mode=L size=448x512 at 0x21D25832D90>],\n",
              "       dtype=object),\n",
              " array([<PIL.JpegImagePlugin.JpegImageFile image mode=L size=448x512 at 0x21D25856070>],\n",
              "       dtype=object),\n",
              " array([<PIL.JpegImagePlugin.JpegImageFile image mode=L size=448x512 at 0x21D258789D0>],\n",
              "       dtype=object),\n",
              " array([<PIL.JpegImagePlugin.JpegImageFile image mode=L size=448x512 at 0x21D25878B50>],\n",
              "       dtype=object),\n",
              " array([<PIL.JpegImagePlugin.JpegImageFile image mode=L size=448x512 at 0x21D25878D30>],\n",
              "       dtype=object),\n",
              " array([<PIL.JpegImagePlugin.JpegImageFile image mode=L size=448x512 at 0x21D258BE190>],\n",
              "       dtype=object),\n",
              " array([<PIL.JpegImagePlugin.JpegImageFile image mode=L size=448x512 at 0x21D258BEA30>],\n",
              "       dtype=object),\n",
              " array([<PIL.JpegImagePlugin.JpegImageFile image mode=L size=448x512 at 0x21D258E3F70>],\n",
              "       dtype=object),\n",
              " array([<PIL.JpegImagePlugin.JpegImageFile image mode=L size=448x512 at 0x21D258E3FD0>],\n",
              "       dtype=object),\n",
              " array([<PIL.JpegImagePlugin.JpegImageFile image mode=L size=448x512 at 0x21D259060D0>],\n",
              "       dtype=object),\n",
              " array([<PIL.JpegImagePlugin.JpegImageFile image mode=L size=448x512 at 0x21D259066D0>],\n",
              "       dtype=object),\n",
              " array([<PIL.JpegImagePlugin.JpegImageFile image mode=L size=448x512 at 0x21D25906730>],\n",
              "       dtype=object),\n",
              " array([<PIL.JpegImagePlugin.JpegImageFile image mode=L size=448x512 at 0x21D25929C10>],\n",
              "       dtype=object),\n",
              " array([<PIL.JpegImagePlugin.JpegImageFile image mode=L size=448x512 at 0x21D25929C70>],\n",
              "       dtype=object),\n",
              " array([<PIL.JpegImagePlugin.JpegImageFile image mode=L size=448x512 at 0x21D2596F730>],\n",
              "       dtype=object),\n",
              " array([<PIL.JpegImagePlugin.JpegImageFile image mode=L size=448x512 at 0x21D259B7610>],\n",
              "       dtype=object),\n",
              " array([<PIL.JpegImagePlugin.JpegImageFile image mode=L size=448x512 at 0x21D259D9CD0>],\n",
              "       dtype=object),\n",
              " array([<PIL.JpegImagePlugin.JpegImageFile image mode=L size=448x512 at 0x21D259FB370>],\n",
              "       dtype=object),\n",
              " array([<PIL.JpegImagePlugin.JpegImageFile image mode=L size=448x512 at 0x21D269F0430>],\n",
              "       dtype=object),\n",
              " array([<PIL.JpegImagePlugin.JpegImageFile image mode=L size=448x512 at 0x21D269F04F0>],\n",
              "       dtype=object),\n",
              " array([<PIL.JpegImagePlugin.JpegImageFile image mode=L size=448x512 at 0x21D269F04F0>],\n",
              "       dtype=object),\n",
              " array([<PIL.JpegImagePlugin.JpegImageFile image mode=L size=448x512 at 0x21D269F05B0>],\n",
              "       dtype=object),\n",
              " array([<PIL.JpegImagePlugin.JpegImageFile image mode=L size=448x512 at 0x21D269F0670>],\n",
              "       dtype=object),\n",
              " array([<PIL.JpegImagePlugin.JpegImageFile image mode=L size=448x512 at 0x21D269F0670>],\n",
              "       dtype=object),\n",
              " array([<PIL.JpegImagePlugin.JpegImageFile image mode=L size=448x512 at 0x21D269F06D0>],\n",
              "       dtype=object),\n",
              " array([<PIL.JpegImagePlugin.JpegImageFile image mode=L size=448x512 at 0x21D269F08B0>],\n",
              "       dtype=object),\n",
              " array([<PIL.JpegImagePlugin.JpegImageFile image mode=L size=448x512 at 0x21D269F08B0>],\n",
              "       dtype=object),\n",
              " array([<PIL.JpegImagePlugin.JpegImageFile image mode=L size=448x512 at 0x21D269F0A30>],\n",
              "       dtype=object),\n",
              " array([<PIL.JpegImagePlugin.JpegImageFile image mode=L size=448x512 at 0x21D269F0A90>],\n",
              "       dtype=object),\n",
              " array([<PIL.JpegImagePlugin.JpegImageFile image mode=L size=448x512 at 0x21D269F0AF0>],\n",
              "       dtype=object),\n",
              " array([<PIL.JpegImagePlugin.JpegImageFile image mode=L size=448x512 at 0x21D269F0DF0>],\n",
              "       dtype=object),\n",
              " array([<PIL.JpegImagePlugin.JpegImageFile image mode=L size=448x512 at 0x21D269F0EB0>],\n",
              "       dtype=object),\n",
              " array([<PIL.JpegImagePlugin.JpegImageFile image mode=L size=448x512 at 0x21D269F0EB0>],\n",
              "       dtype=object),\n",
              " array([<PIL.JpegImagePlugin.JpegImageFile image mode=L size=448x512 at 0x21D26A130D0>],\n",
              "       dtype=object),\n",
              " array([<PIL.JpegImagePlugin.JpegImageFile image mode=L size=448x512 at 0x21D26A13130>],\n",
              "       dtype=object)]"
            ]
          },
          "metadata": {
            "tags": []
          },
          "execution_count": 19
        }
      ]
    },
    {
      "cell_type": "code",
      "metadata": {
        "id": "i1_muNLaFXUQ"
      },
      "source": [
        "#Save the Images\n",
        "for i in range(len(cmbImages)):\n",
        "    #print(i)\n",
        "    cmbImages[i][0].save(\"C:/Users/PROTED/Downloads/cmbImages/\"+cmbSlices[i]+\".jpg\")\n"
      ],
      "execution_count": null,
      "outputs": []
    },
    {
      "cell_type": "code",
      "metadata": {
        "id": "VBBRc3JAFXUQ"
      },
      "source": [
        " #I = np.asarray(Image.open(\"C:/Users/PROTED/Downloads/cmbImages/001-0049.jpg\"))"
      ],
      "execution_count": null,
      "outputs": []
    },
    {
      "cell_type": "code",
      "metadata": {
        "id": "J1o0FQgUFXUQ"
      },
      "source": [
        "#Generate the text file\n",
        "#Let's get x and y coordinates for each slice\n",
        "def getX(data):\n",
        "    X={}\n",
        "    for k in data.keys():\n",
        "        X[k]=data[k].values[:,1]\n",
        "    return X\n",
        "x=getX(data)\n",
        "def getY(data):\n",
        "    Y={}\n",
        "    for k in data.keys():\n",
        "        Y[k]=data[k].values[:,2]\n",
        "    return Y\n",
        "y=getY(data)"
      ],
      "execution_count": null,
      "outputs": []
    },
    {
      "cell_type": "markdown",
      "metadata": {
        "id": "qOMjo-U9FXUQ"
      },
      "source": [
        "# YOLO Steps"
      ]
    },
    {
      "cell_type": "markdown",
      "metadata": {
        "id": "FEiWbQg4FXUR"
      },
      "source": [
        "0.Download pretraining weigths https://github.com/AlexeyAB/darknet/releases/download/darknet_yolo_v3_optimal/yolov4.conv.137\n",
        "1../cfg file is already avaiable.Put it in ./cfg"
      ]
    },
    {
      "cell_type": "code",
      "metadata": {
        "id": "EsNKu7P1FXUR"
      },
      "source": [
        "#2. build\\darknet\\x64\\data\\\n",
        "with open(os.path.join(\"C:/Users/PROTED/Downloads/data/obj.names\"),\"w\") as f:\n",
        "    f.write(\"CMB\")"
      ],
      "execution_count": null,
      "outputs": []
    },
    {
      "cell_type": "code",
      "metadata": {
        "id": "fQLIuA75FXUR"
      },
      "source": [
        "#3.build\\darknet\\x64\\data\\\n",
        "with open(os.path.join(\"C:/Users/PROTED/Downloads/data/obj.data\"),\"w\") as f:\n",
        "    f.write(\"classes = 1\\n\")\n",
        "    f.write(\"train = data/train.txt\\n\")\n",
        "    f.write(\"valid = data/test.txt\\n\")\n",
        "    f.write(\"names = data/obj.names\\n\")\n",
        "    f.write(\"backup/\")"
      ],
      "execution_count": null,
      "outputs": []
    },
    {
      "cell_type": "markdown",
      "metadata": {
        "id": "0Uikavp4FXUS"
      },
      "source": [
        "4. Put jpgs in build\\darknet\\x64\\data\\obj\\"
      ]
    },
    {
      "cell_type": "code",
      "metadata": {
        "id": "MiF6oc65FXUS"
      },
      "source": [
        "#5.Writing text files\n",
        "#labels same directory as images\n",
        "height=448\n",
        "width=512\n",
        "X=np.concatenate(list(x.values()), axis=0 )\n",
        "Y=np.concatenate(list(y.values()), axis=0 )\n",
        "for s in range(len(cmbSlices)):\n",
        "    with open(os.path.join(\"C:/Users/PROTED/Downloads/textFiles/\",\"{}.txt\".format(cmbSlices[s])),\"w\") as f:\n",
        "        f.write(\"0 \"+str((X[s]/512))+\" \"+str(float(Y[s]/448))+\" \"+str(float(20/512)) +\" \" +str(float(20/448))+\"\\n\")"
      ],
      "execution_count": null,
      "outputs": []
    },
    {
      "cell_type": "markdown",
      "metadata": {
        "id": "Pn7LZSo4FXUS"
      },
      "source": [
        "6. train and test files"
      ]
    },
    {
      "cell_type": "code",
      "metadata": {
        "id": "_fxFM6yvFXUS"
      },
      "source": [
        "#Lets do an 80 to 20 split\n",
        "#Create train.txt\n",
        "with open(os.path.join(\"C:/Users/PROTED/Downloads/data/train.txt\"),\"w\") as f:\n",
        "        for i in cmbSlices[1:152]:\n",
        "            f.write(\"data/obj/\"+i+\".jpg\\n\")"
      ],
      "execution_count": null,
      "outputs": []
    },
    {
      "cell_type": "code",
      "metadata": {
        "id": "wMNG65jrFXUT"
      },
      "source": [
        "#Create test.txt\n",
        "with open(os.path.join(\"C:/Users/PROTED/Downloads/data/test.txt\"),\"w\") as f:\n",
        "        for i in cmbSlices[152:len(cmbSlices)]:\n",
        "            f.write(\"data/obj/\"+i+\".jpg\\n\")"
      ],
      "execution_count": null,
      "outputs": []
    },
    {
      "cell_type": "markdown",
      "metadata": {
        "id": "R5TfXQdGFXUT"
      },
      "source": [
        "7. Download pre-trained weights for the convolutional layers and put to the directory build\\darknet\\x64. Same as step 0"
      ]
    },
    {
      "cell_type": "markdown",
      "metadata": {
        "id": "m2ew8wMSFXUT"
      },
      "source": [
        "8. Begin training\n",
        "darknet.exe detector train data/obj.data yolo-obj.cfg yolov4.conv.137"
      ]
    },
    {
      "cell_type": "markdown",
      "metadata": {
        "id": "E9iAyCTSFXUT"
      },
      "source": [
        "9. After training is complete - get result yolo-obj_final.weights from path build\\darknet\\x64\\backup\\"
      ]
    },
    {
      "cell_type": "code",
      "metadata": {
        "id": "IPoWo33DFXUU"
      },
      "source": [],
      "execution_count": null,
      "outputs": []
    }
  ]
}